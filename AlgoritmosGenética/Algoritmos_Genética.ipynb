{
 "cells": [
  {
   "cell_type": "markdown",
   "metadata": {},
   "source": [
    "# Implementação do Algoritmo génetico"
   ]
  },
  {
   "cell_type": "markdown",
   "metadata": {},
   "source": [
    " a + 2b + 3c + 4d = 30"
   ]
  },
  {
   "cell_type": "code",
   "execution_count": 1,
   "metadata": {},
   "outputs": [],
   "source": [
    "import numpy as np"
   ]
  },
  {
   "cell_type": "markdown",
   "metadata": {},
   "source": [
    "## Criação da matriz dos cromossomos (6,4) selecionado aléatoriamente"
   ]
  },
  {
   "cell_type": "code",
   "execution_count": 2,
   "metadata": {},
   "outputs": [],
   "source": [
    "num_crom = 6  #numero de Cromossomos\n",
    "num_gen = 4   #numero de genes\n",
    "num_Total_gene = num_crom*num_gen\n",
    "Taixa_De_Cruzamento = 0.25\n",
    "Taixa_De_Mutação = 0.1"
   ]
  },
  {
   "cell_type": "code",
   "execution_count": 3,
   "metadata": {},
   "outputs": [
    {
     "data": {
      "text/plain": [
       "array([[29, 27, 20, 19],\n",
       "       [27, 28,  0, 28],\n",
       "       [ 9, 22, 20, 18],\n",
       "       [ 9,  8, 24,  7],\n",
       "       [11, 18, 15, 10],\n",
       "       [20, 23, 26, 17]])"
      ]
     },
     "execution_count": 3,
     "metadata": {},
     "output_type": "execute_result"
    }
   ],
   "source": [
    "# np.random.seed(30)\n",
    "cromossomos = np.random.randint(0,30,(num_crom,num_gen))\n",
    "cromossomos"
   ]
  },
  {
   "cell_type": "markdown",
   "metadata": {},
   "source": [
    "Assim Definimos como **\" f() = ( a + 2b + 3c + 4d ) - 30 \"**  a função objetiva"
   ]
  },
  {
   "cell_type": "markdown",
   "metadata": {},
   "source": [
    "## Inicialização dos coeficientes da função objetiva"
   ]
  },
  {
   "cell_type": "code",
   "execution_count": 4,
   "metadata": {},
   "outputs": [
    {
     "data": {
      "text/plain": [
       "[1, 2, 3, 4]"
      ]
     },
     "execution_count": 4,
     "metadata": {},
     "output_type": "execute_result"
    }
   ],
   "source": [
    "coeficiente =[1,2,3,4]\n",
    "coeficiente"
   ]
  },
  {
   "cell_type": "markdown",
   "metadata": {},
   "source": [
    "## Calculo da Avaliação Objetiva"
   ]
  },
  {
   "cell_type": "code",
   "execution_count": 5,
   "metadata": {},
   "outputs": [
    {
     "data": {
      "text/plain": [
       "array([189, 165, 155,  95, 102, 182])"
      ]
     },
     "execution_count": 5,
     "metadata": {},
     "output_type": "execute_result"
    }
   ],
   "source": [
    "F = cromossomos * coeficiente \n",
    "Av_Ob = abs(F.sum(1)-30)\n",
    "Av_Ob"
   ]
  },
  {
   "cell_type": "markdown",
   "metadata": {},
   "source": [
    " ## Adaptação da função objetiva"
   ]
  },
  {
   "cell_type": "code",
   "execution_count": 6,
   "metadata": {},
   "outputs": [
    {
     "data": {
      "text/plain": [
       "array([0.00526316, 0.0060241 , 0.00641026, 0.01041667, 0.00970874,\n",
       "       0.00546448])"
      ]
     },
     "execution_count": 6,
     "metadata": {},
     "output_type": "execute_result"
    }
   ],
   "source": [
    "Ad_Ob = 1 / ( 1 + Av_Ob )\n",
    "Ad_Ob"
   ]
  },
  {
   "cell_type": "markdown",
   "metadata": {},
   "source": [
    "## Probabilidade da função Objetiva"
   ]
  },
  {
   "cell_type": "code",
   "execution_count": 7,
   "metadata": {
    "scrolled": true
   },
   "outputs": [
    {
     "data": {
      "text/plain": [
       "array([0.12158638, 0.13916514, 0.14808598, 0.24063972, 0.22428556,\n",
       "       0.12623723])"
      ]
     },
     "execution_count": 7,
     "metadata": {},
     "output_type": "execute_result"
    }
   ],
   "source": [
    "Pro_Ob = Ad_Ob / Ad_Ob.sum()\n",
    "Pro_Ob"
   ]
  },
  {
   "cell_type": "markdown",
   "metadata": {},
   "source": [
    "## Probabilidade Accumulativa"
   ]
  },
  {
   "cell_type": "code",
   "execution_count": 8,
   "metadata": {},
   "outputs": [
    {
     "data": {
      "text/plain": [
       "array([0.12158638, 0.26075152, 0.4088375 , 0.64947721, 0.87376277,\n",
       "       1.        ])"
      ]
     },
     "execution_count": 8,
     "metadata": {},
     "output_type": "execute_result"
    }
   ],
   "source": [
    "Pro_Acc = Pro_Ob.cumsum()\n",
    "Pro_Acc"
   ]
  },
  {
   "cell_type": "markdown",
   "metadata": {},
   "source": [
    "# Gerar Novo Cromossomos"
   ]
  },
  {
   "cell_type": "markdown",
   "metadata": {},
   "source": [
    " ### Seja r um array de uma dimenção de numeros aleatórios entre (0,1)"
   ]
  },
  {
   "cell_type": "code",
   "execution_count": 9,
   "metadata": {},
   "outputs": [
    {
     "data": {
      "text/plain": [
       "array([0.50388328, 0.85308098, 0.1856329 , 0.28542171, 0.77785484,\n",
       "       0.44051595])"
      ]
     },
     "execution_count": 9,
     "metadata": {},
     "output_type": "execute_result"
    }
   ],
   "source": [
    "r = np.random.rand(num_crom)\n",
    "r"
   ]
  },
  {
   "cell_type": "markdown",
   "metadata": {},
   "source": [
    "Estamos achando aqui o indice Teto em que percence a lista aleatoria **R** nos intervales da Pro_Acc. "
   ]
  },
  {
   "cell_type": "code",
   "execution_count": 10,
   "metadata": {},
   "outputs": [
    {
     "data": {
      "text/plain": [
       "array([3, 4, 1, 2, 4, 3])"
      ]
     },
     "execution_count": 10,
     "metadata": {},
     "output_type": "execute_result"
    }
   ],
   "source": [
    "indice = np.searchsorted(Pro_Acc,r, side='left')\n",
    "indice"
   ]
  },
  {
   "cell_type": "markdown",
   "metadata": {},
   "source": [
    "Criação de novos cromossomos usando o indice anterior."
   ]
  },
  {
   "cell_type": "code",
   "execution_count": 11,
   "metadata": {},
   "outputs": [
    {
     "data": {
      "text/plain": [
       "array([[ 9,  8, 24,  7],\n",
       "       [11, 18, 15, 10],\n",
       "       [27, 28,  0, 28],\n",
       "       [ 9, 22, 20, 18],\n",
       "       [11, 18, 15, 10],\n",
       "       [ 9,  8, 24,  7]])"
      ]
     },
     "execution_count": 11,
     "metadata": {},
     "output_type": "execute_result"
    }
   ],
   "source": [
    "novo_cromossomos = np.zeros_like(cromossomos)\n",
    "novo_cromossomos = cromossomos[indice]\n",
    "novo_cromossomos"
   ]
  },
  {
   "cell_type": "markdown",
   "metadata": {},
   "source": [
    "Subtituindo a antiga matriz de cromossomos com os novo_cromossomos gerados. "
   ]
  },
  {
   "cell_type": "code",
   "execution_count": 12,
   "metadata": {},
   "outputs": [
    {
     "data": {
      "text/plain": [
       "array([[ 9,  8, 24,  7],\n",
       "       [11, 18, 15, 10],\n",
       "       [27, 28,  0, 28],\n",
       "       [ 9, 22, 20, 18],\n",
       "       [11, 18, 15, 10],\n",
       "       [ 9,  8, 24,  7]])"
      ]
     },
     "execution_count": 12,
     "metadata": {},
     "output_type": "execute_result"
    }
   ],
   "source": [
    "cromossomos = np.copy(novo_cromossomos)\n",
    "cromossomos"
   ]
  },
  {
   "cell_type": "markdown",
   "metadata": {},
   "source": [
    "# Cruzamento"
   ]
  },
  {
   "cell_type": "markdown",
   "metadata": {},
   "source": [
    "### Gerar novas valores aleatorios"
   ]
  },
  {
   "cell_type": "code",
   "execution_count": 13,
   "metadata": {},
   "outputs": [
    {
     "data": {
      "text/plain": [
       "array([0.61884617, 0.24380332, 0.0432954 , 0.52235541, 0.85872113,\n",
       "       0.68467003])"
      ]
     },
     "execution_count": 13,
     "metadata": {},
     "output_type": "execute_result"
    }
   ],
   "source": [
    "r0 = np.random.random(num_crom)\n",
    "r0"
   ]
  },
  {
   "cell_type": "markdown",
   "metadata": {},
   "source": [
    " ### Com a Taixa de Cruzamento nos iremos achar os indices dos valores r0 inferior. "
   ]
  },
  {
   "cell_type": "code",
   "execution_count": 14,
   "metadata": {},
   "outputs": [
    {
     "data": {
      "text/plain": [
       "[1, 2]"
      ]
     },
     "execution_count": 14,
     "metadata": {},
     "output_type": "execute_result"
    }
   ],
   "source": [
    "indice_cruzamento = np.argwhere(r0 < 0.25)\n",
    "indice_cruzamento = indice_cruzamento.ravel().tolist()\n",
    "indice_cruzamento"
   ]
  },
  {
   "cell_type": "markdown",
   "metadata": {},
   "source": [
    " ### Gerarmos valores aleatorios para determinar o Ponto de Corte dos cromossomos"
   ]
  },
  {
   "cell_type": "code",
   "execution_count": 15,
   "metadata": {},
   "outputs": [
    {
     "data": {
      "text/plain": [
       "[2, 1]"
      ]
     },
     "execution_count": 15,
     "metadata": {},
     "output_type": "execute_result"
    }
   ],
   "source": [
    "Pt_corte = np.random.randint(1,num_gen-1,size=len(indice_cruzamento))\n",
    "Pt_corte = Pt_corte.tolist()\n",
    "Pt_corte"
   ]
  },
  {
   "cell_type": "code",
   "execution_count": 16,
   "metadata": {},
   "outputs": [
    {
     "data": {
      "text/plain": [
       "2"
      ]
     },
     "execution_count": 16,
     "metadata": {},
     "output_type": "execute_result"
    }
   ],
   "source": [
    "Tam_ind_Cruz = len(indice_cruzamento) #O tamanho do indice de Cruzamento\n",
    "Tam_ind_Cruz"
   ]
  },
  {
   "cell_type": "markdown",
   "metadata": {},
   "source": [
    "### Esta matriz foi criada para agrupar o conjunto de cromossomos que soferão o cruzamento"
   ]
  },
  {
   "cell_type": "code",
   "execution_count": 17,
   "metadata": {},
   "outputs": [
    {
     "data": {
      "text/plain": [
       "array([[11, 18, 15, 10],\n",
       "       [27, 28,  0, 28]])"
      ]
     },
     "execution_count": 17,
     "metadata": {},
     "output_type": "execute_result"
    }
   ],
   "source": [
    "matriz_cross = (cromossomos[indice_cruzamento]).reshape(Tam_ind_Cruz,num_gen)\n",
    "matriz_cross"
   ]
  },
  {
   "cell_type": "markdown",
   "metadata": {},
   "source": [
    "### Criação de uma Matriz 0 tendo a mesma caractéristica que a matriz de crusamento para receber os valores dos genes dos cromossomos cruzados"
   ]
  },
  {
   "cell_type": "code",
   "execution_count": 18,
   "metadata": {},
   "outputs": [
    {
     "data": {
      "text/plain": [
       "array([[0, 0, 0, 0],\n",
       "       [0, 0, 0, 0]])"
      ]
     },
     "execution_count": 18,
     "metadata": {},
     "output_type": "execute_result"
    }
   ],
   "source": [
    "novo_cs = np.zeros_like(matriz_cross)\n",
    "novo_cs"
   ]
  },
  {
   "cell_type": "markdown",
   "metadata": {},
   "source": [
    "### O cruzamento é effectuado aqui seguindo a ordem das linhas da matriz_cross. vale ressaltar que a ultima linhas tem que cruzar com a primeira."
   ]
  },
  {
   "cell_type": "code",
   "execution_count": 19,
   "metadata": {},
   "outputs": [
    {
     "data": {
      "text/plain": [
       "array([[11, 18,  0, 28],\n",
       "       [27, 18, 15, 10]])"
      ]
     },
     "execution_count": 19,
     "metadata": {},
     "output_type": "execute_result"
    }
   ],
   "source": [
    "tam = len(matriz_cross)\n",
    "for j in range(tam):\n",
    "    if j!= (tam-1):\n",
    "        novo_cs[j] = np.concatenate( ( matriz_cross[j][:Pt_corte[j]], matriz_cross[j+1][Pt_corte[j]:]))\n",
    "    elif j == (tam-1):\n",
    "        novo_cs[j] = np.concatenate( ( matriz_cross[j][:Pt_corte[j]], matriz_cross[0][Pt_corte[j]:]))\n",
    "novo_cs\n"
   ]
  },
  {
   "cell_type": "markdown",
   "metadata": {},
   "source": [
    "### Substituição dos cromossomos cruzados dentro da matriz Cromossomos"
   ]
  },
  {
   "cell_type": "code",
   "execution_count": 20,
   "metadata": {},
   "outputs": [
    {
     "data": {
      "text/plain": [
       "array([[ 9,  8, 24,  7],\n",
       "       [11, 18,  0, 28],\n",
       "       [27, 18, 15, 10],\n",
       "       [ 9, 22, 20, 18],\n",
       "       [11, 18, 15, 10],\n",
       "       [ 9,  8, 24,  7]])"
      ]
     },
     "execution_count": 20,
     "metadata": {},
     "output_type": "execute_result"
    }
   ],
   "source": [
    "tam = len(indice_cruzamento)\n",
    "for j in range (tam):\n",
    "    cromossomos[indice_cruzamento[j]] = novo_cs[j]\n",
    "cromossomos"
   ]
  },
  {
   "cell_type": "markdown",
   "metadata": {},
   "source": [
    "## Mutação"
   ]
  },
  {
   "cell_type": "markdown",
   "metadata": {},
   "source": [
    " ### Calculo dos numeros de mutante e seu arredondamento"
   ]
  },
  {
   "cell_type": "code",
   "execution_count": 21,
   "metadata": {},
   "outputs": [],
   "source": [
    "num_Mutante = (num_Total_gene * Taixa_De_Mutação)\n",
    "num_Mutante = round(num_Mutante)"
   ]
  },
  {
   "cell_type": "markdown",
   "metadata": {},
   "source": [
    "### Gerando as POSIÇÔES dos mutantes acima do numero Total de genes"
   ]
  },
  {
   "cell_type": "code",
   "execution_count": 22,
   "metadata": {},
   "outputs": [
    {
     "data": {
      "text/plain": [
       "array([ 7, 15])"
      ]
     },
     "execution_count": 22,
     "metadata": {},
     "output_type": "execute_result"
    }
   ],
   "source": [
    "Pos_mutante = np.random.randint(1,num_Total_gene,num_Mutante)\n",
    "Pos_mutante"
   ]
  },
  {
   "cell_type": "markdown",
   "metadata": {},
   "source": [
    "### Gerando os VALORES  das posições mutantes."
   ]
  },
  {
   "cell_type": "code",
   "execution_count": 23,
   "metadata": {},
   "outputs": [
    {
     "data": {
      "text/plain": [
       "array([2, 7])"
      ]
     },
     "execution_count": 23,
     "metadata": {},
     "output_type": "execute_result"
    }
   ],
   "source": [
    "Val_Mutante = np.random.randint(1,num_Total_gene,num_Mutante)\n",
    "Val_Mutante"
   ]
  },
  {
   "cell_type": "markdown",
   "metadata": {},
   "source": [
    "### Representando em linha os genes dos cromossomos"
   ]
  },
  {
   "cell_type": "code",
   "execution_count": 24,
   "metadata": {},
   "outputs": [
    {
     "data": {
      "text/plain": [
       "array([[ 9,  8, 24,  7, 11, 18,  0, 28, 27, 18, 15, 10,  9, 22, 20, 18,\n",
       "        11, 18, 15, 10,  9,  8, 24,  7]])"
      ]
     },
     "execution_count": 24,
     "metadata": {},
     "output_type": "execute_result"
    }
   ],
   "source": [
    "n= cromossomos.reshape(1,24)\n",
    "n"
   ]
  },
  {
   "cell_type": "markdown",
   "metadata": {},
   "source": [
    "### Subtituindo os valores mutantes respectivamente nas posições mutantes, dentro dos vetores de genes de cromossomos"
   ]
  },
  {
   "cell_type": "code",
   "execution_count": 25,
   "metadata": {},
   "outputs": [
    {
     "data": {
      "text/plain": [
       "array([ 9,  8, 24,  7, 11, 18,  0,  2, 27, 18, 15, 10,  9, 22, 20,  7, 11,\n",
       "       18, 15, 10,  9,  8, 24,  7])"
      ]
     },
     "execution_count": 25,
     "metadata": {},
     "output_type": "execute_result"
    }
   ],
   "source": [
    "n = np.copy(cromossomos.reshape(1,24)).ravel()\n",
    "n[Pos_mutante] = Val_Mutante\n",
    "n"
   ]
  },
  {
   "cell_type": "markdown",
   "metadata": {},
   "source": [
    "### Reorganizando o vector de gene mutado em matriz de cromossomos"
   ]
  },
  {
   "cell_type": "code",
   "execution_count": 26,
   "metadata": {},
   "outputs": [
    {
     "data": {
      "text/plain": [
       "array([[ 9,  8, 24,  7],\n",
       "       [11, 18,  0,  2],\n",
       "       [27, 18, 15, 10],\n",
       "       [ 9, 22, 20,  7],\n",
       "       [11, 18, 15, 10],\n",
       "       [ 9,  8, 24,  7]])"
      ]
     },
     "execution_count": 26,
     "metadata": {},
     "output_type": "execute_result"
    }
   ],
   "source": [
    "cromossomos = np.copy(n.reshape(num_crom,num_gen))\n",
    "cromossomos"
   ]
  }
 ],
 "metadata": {
  "kernelspec": {
   "display_name": "Python 3",
   "language": "python",
   "name": "python3"
  },
  "language_info": {
   "codemirror_mode": {
    "name": "ipython",
    "version": 3
   },
   "file_extension": ".py",
   "mimetype": "text/x-python",
   "name": "python",
   "nbconvert_exporter": "python",
   "pygments_lexer": "ipython3",
   "version": "3.7.1"
  }
 },
 "nbformat": 4,
 "nbformat_minor": 2
}
